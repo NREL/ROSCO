{
 "cells": [
  {
   "cell_type": "markdown",
   "metadata": {
    "slideshow": {
     "slide_type": "slide"
    }
   },
   "source": [
    "# Having fun with the ROSCO toolbox \n",
    "#### By: Nikhar J. Abbas, December 12, 2019\n",
    "Here is a little jupyter notebook describing some of the functionalities of the ROSCO toolbox. The goal here is to walk through the process of writing a turbine controller for a new wind turbine model. \n",
    "\n",
    "If you somehow managed to get your hands on this notebook without knowing of it's git repository of origin, here is a link: \n",
    "\n",
    "<center> <a>https://github.com/NREL/ROSCO_toolbox</a> </center>\n",
    "\n",
    "\n",
    "Hopefully you'll learn some hot tips along the way...\n"
   ]
  },
  {
   "cell_type": "code",
   "execution_count": 1,
   "metadata": {
    "slideshow": {
     "slide_type": "subslide"
    }
   },
   "outputs": [
    {
     "name": "stdout",
     "output_type": "stream",
     "text": [
      "WARNING: Be sure to pip install simpy and marmot-agents for offshore BOS runs\n",
      "Using ofTools in rosco.toolbox...\n"
     ]
    }
   ],
   "source": [
    "# Load necessary modules\n",
    "# Python Modules\n",
    "import os, platform\n",
    "import matplotlib.pyplot as plt \n",
    "import pprint\n",
    "import numpy as np\n",
    "\n",
    "# ROSCO Modules\n",
    "from rosco.toolbox import turbine as ROSCO_turbine\n",
    "from rosco.toolbox import utilities as ROSCO_utilities\n",
    "from rosco.toolbox import sim as ROSCO_sim\n",
    "from rosco.toolbox import utilities as ROSCO_utilities\n",
    "from rosco.toolbox import controller as ROSCO_controller\n",
    "from rosco.toolbox import control_interface as ROSCO_ci\n",
    "from rosco.toolbox.ofTools.fast_io.output_processing import output_processing\n",
    "\n",
    "from rosco.toolbox.inputs.validation import load_rosco_yaml\n",
    "\n"
   ]
  },
  {
   "cell_type": "markdown",
   "metadata": {
    "slideshow": {
     "slide_type": "slide"
    }
   },
   "source": [
    "## .yaml files \n",
    "We use yaml files as the top level input file to the ROSCO generic tuning process.\n",
    "\n",
    "### Three main parts:\n",
    "* Path Parameters\n",
    "    - Contains the path details of the OpenFAST input fails\n",
    "* Turbine Parameters\n",
    "    - Contains some high level turbine parameters. Rated power, important wind speeds, etc...\n",
    "* Controller Parameters\n",
    "    - Contains the controller parameters. Some are necessary, the rest are optional\n",
    "    \n",
    "#### Lets load and look at our controller paremeters..."
   ]
  },
  {
   "cell_type": "code",
   "execution_count": 2,
   "metadata": {
    "slideshow": {
     "slide_type": "slide"
    }
   },
   "outputs": [],
   "source": [
    "# Load yaml file \n",
    "parameter_filename = 'Tune_Cases/NREL5MW.yaml'\n",
    "inps = load_rosco_yaml(parameter_filename)\n",
    "path_params         = inps['path_params']\n",
    "turbine_params      = inps['turbine_params']\n",
    "controller_params   = inps['controller_params']"
   ]
  },
  {
   "cell_type": "code",
   "execution_count": 3,
   "metadata": {
    "slideshow": {
     "slide_type": "subslide"
    }
   },
   "outputs": [
    {
     "name": "stdout",
     "output_type": "stream",
     "text": [
      "{'TSR_operational': 0,\n",
      " 'bld_edgewise_freq': 6.2831853,\n",
      " 'bld_flapwise_freq': 0.0,\n",
      " 'max_pitch_rate': 0.1745,\n",
      " 'max_torque_rate': 1500000.0,\n",
      " 'rated_power': 5000000.0,\n",
      " 'rated_rotor_speed': 1.26711,\n",
      " 'reynolds_ref': 0,\n",
      " 'rotor_inertia': 38677040.613,\n",
      " 'v_max': 25.0,\n",
      " 'v_min': 3.0,\n",
      " 'v_rated': 11.4}\n"
     ]
    }
   ],
   "source": [
    "pprint.pprint(turbine_params)"
   ]
  },
  {
   "cell_type": "markdown",
   "metadata": {
    "slideshow": {
     "slide_type": "subslide"
    }
   },
   "source": [
    "### So, what do we care about here?\n",
    "Note that items with a star need at least a 0 or a 1. They're fairly standard, though...\n",
    "1. Filter types\n",
    "    * A few are available. Generally, first and second order low pass filters, high pass, and notch. They are used for a few different purposes\n",
    "2. Control Modes\n",
    "    * Which control modes you would like. There are a few different options, example .yaml files are provided in the toolbox.\n",
    "3. omega_* and zeta_*\n",
    "    * These are the __four__ controller tuning parameters that you need to define. Again, some example files for different turbines are provided to help build some intuition on these.\n",
    "4. The rest..\n",
    "    * The rest of these are optional. If you would like to define these, go for it. Otherwise you don't need to"
   ]
  },
  {
   "cell_type": "markdown",
   "metadata": {
    "slideshow": {
     "slide_type": "slide"
    }
   },
   "source": [
    "## Loading a Turbine model\n",
    "We will load a turbine model and look at it a bit. Note that `path_params['rotor_performance_filename']` is defined, so we will not run CC-blade in this tutorial. You could though, if you have a couple minutes!"
   ]
  },
  {
   "cell_type": "code",
   "execution_count": 5,
   "metadata": {
    "slideshow": {
     "slide_type": "subslide"
    }
   },
   "outputs": [
    {
     "ename": "SyntaxError",
     "evalue": "EOL while scanning string literal (59959341.py, line 6)",
     "output_type": "error",
     "traceback": [
      "\u001b[0;36m  Cell \u001b[0;32mIn[5], line 6\u001b[0;36m\u001b[0m\n\u001b[0;31m    rot_source='txt',txt_filename=os.path.join('Tune_Cases',rotor_performance_filename'])\u001b[0m\n\u001b[0m                                                                                         ^\u001b[0m\n\u001b[0;31mSyntaxError\u001b[0m\u001b[0;31m:\u001b[0m EOL while scanning string literal\n"
     ]
    }
   ],
   "source": [
    "# Load turbine data from openfast model\n",
    "turbine = ROSCO_turbine.Turbine(turbine_params)\n",
    "turbine.load_from_fast(\n",
    "    path_params['FAST_InputFile'],\n",
    "    os.path.join('Tune_Cases/',path_params['FAST_directory']),\n",
    "    rot_source='txt',txt_filename=os.path.join('Tune_Cases',rotor_performance_filename'])\n",
    "    )\n"
   ]
  },
  {
   "cell_type": "markdown",
   "metadata": {
    "slideshow": {
     "slide_type": "slide"
    }
   },
   "source": [
    "### Look at some basic turbine information and plot a Cp-surface"
   ]
  },
  {
   "cell_type": "code",
   "execution_count": null,
   "metadata": {
    "slideshow": {
     "slide_type": "subslide"
    }
   },
   "outputs": [],
   "source": [
    "print(turbine)\n",
    "# Plot rotor performance information\n",
    "turbine.Cp.plot_performance()\n",
    "plt.show()"
   ]
  },
  {
   "cell_type": "markdown",
   "metadata": {
    "slideshow": {
     "slide_type": "slide"
    }
   },
   "source": [
    "## Tune a controller\n",
    "We now have loaded our wind turbine model. Lets tune the controller "
   ]
  },
  {
   "cell_type": "code",
   "execution_count": null,
   "metadata": {
    "slideshow": {
     "slide_type": "subslide"
    }
   },
   "outputs": [],
   "source": [
    "# Tune controller \n",
    "controller      = ROSCO_controller.Controller(controller_params)\n",
    "controller.tune_controller(turbine)"
   ]
  },
  {
   "cell_type": "markdown",
   "metadata": {
    "slideshow": {
     "slide_type": "slide"
    }
   },
   "source": [
    "**WOW! That was easy...**\n",
    "\n",
    "Lets plot our PI gains and write the ROSCO input file"
   ]
  },
  {
   "cell_type": "code",
   "execution_count": null,
   "metadata": {
    "slideshow": {
     "slide_type": "subslide"
    }
   },
   "outputs": [],
   "source": [
    "# Plot gain schedule\n",
    "fig, axs = plt.subplots(1, 2, sharey=True)\n",
    "axs[0].plot(controller.v[len(controller.v_below_rated)+1:], controller.pc_gain_schedule.Kp)\n",
    "axs[0].set_xlabel('Wind Speed')\n",
    "axs[0].set_ylabel('Proportional Gain')\n",
    "axs[0].grid('True')\n",
    "\n",
    "\n",
    "axs[1].plot(controller.v[len(controller.v_below_rated)+1:], controller.pc_gain_schedule.Ki)\n",
    "axs[1].set_xlabel('Wind Speed')\n",
    "axs[1].set_ylabel('Integral Gain')\n",
    "axs[1].grid('True')\n"
   ]
  },
  {
   "cell_type": "code",
   "execution_count": null,
   "metadata": {
    "slideshow": {
     "slide_type": "slide"
    }
   },
   "outputs": [],
   "source": [
    "# Write parameter input file\n",
    "param_file = 'DISCON.IN'   # This must be named DISCON.IN to be seen by the compiled controller binary. \n",
    "ROSCO_utilities.write_DISCON(\n",
    "    turbine,controller,\n",
    "    param_file=param_file, \n",
    "    txt_filename=os.path.join('Tune_Cases/',path_params['rotor_performance_filename'])\n",
    ")"
   ]
  },
  {
   "cell_type": "markdown",
   "metadata": {
    "slideshow": {
     "slide_type": "slide"
    }
   },
   "source": [
    "### What else can the controller do and see?\n",
    "Lets look at our minimum pitch schedule. We will need to:\n",
    "1. Change `PS_Mode = 1` for peak chaving\n",
    "2. Retune the controller. Let's call it `controller_ps`\n",
    "3. Plot the results"
   ]
  },
  {
   "cell_type": "code",
   "execution_count": null,
   "metadata": {
    "slideshow": {
     "slide_type": "subslide"
    }
   },
   "outputs": [],
   "source": [
    "# Change pitch saturation parameter to peak shave\n",
    "controller_params['PS_Mode'] = 1\n",
    "\n",
    "# Retune the controller\n",
    "controller2 = ROSCO_controller.Controller(controller_params)\n",
    "controller2.tune_controller(turbine)\n",
    "\n",
    "# Plot minimum pitch schedule\n",
    "plt.plot(controller2.v, controller2.pitch_op,label='Steady State Operation')\n",
    "plt.plot(controller2.v, controller2.ps_min_bld_pitch, label='Minimum Pitch Schedule')\n",
    "plt.legend()\n",
    "plt.xlabel('Wind speed (m/s)')\n",
    "plt.ylabel('Blade pitch (rad)')\n",
    "plt.show()"
   ]
  },
  {
   "cell_type": "markdown",
   "metadata": {
    "slideshow": {
     "slide_type": "slide"
    }
   },
   "source": [
    "### Quick Simulate..\n",
    "We can also run a small one degree of freedom simulation to see if our tuning makes sense"
   ]
  },
  {
   "cell_type": "code",
   "execution_count": null,
   "metadata": {
    "slideshow": {
     "slide_type": "subslide"
    }
   },
   "outputs": [],
   "source": [
    "# Specify controller dynamic library path and name\n",
    "\n",
    "if platform.system() == 'Windows':\n",
    "    ext = 'dll'\n",
    "elif platform.system() == 'Darwin':\n",
    "    ext = 'dylib'\n",
    "else:\n",
    "    ext = 'so'\n",
    "                \n",
    "lib_name = (f'../ROSCO/build/libdiscon.{ext}')\n",
    "\n",
    "# Load the simulator and controller interface\n",
    "controller_int = ROSCO_ci.ControllerInterface(lib_name,param_filename=param_file)\n",
    "sim = ROSCO_sim.Sim(turbine,controller_int)\n",
    "\n",
    "# Define a wind speed history\n",
    "dt = 0.1\n",
    "tlen = 1000      # length of time to simulate (s)\n",
    "ws0 = 7         # initial wind speed (m/s)\n",
    "t= np.arange(0,tlen,dt) \n",
    "ws = np.ones_like(t) * ws0\n",
    "# add steps at every 100s\n",
    "for i in range(len(t)):\n",
    "    ws[i] = ws[i] + t[i]//100\n",
    "\n",
    "# Run simulator and plot results\n",
    "sim.sim_ws_series(t,ws,rotor_rpm_init=4)\n",
    "plt.show()"
   ]
  },
  {
   "cell_type": "markdown",
   "metadata": {
    "slideshow": {
     "slide_type": "subslide"
    }
   },
   "source": [
    "Note that his doesn't look _exactly_ how we would like our final controller to behave. This tool (currently) is to help build some intuition on if the controller is working reasonably. It does not have any significant dynamics, though."
   ]
  },
  {
   "cell_type": "markdown",
   "metadata": {
    "slideshow": {
     "slide_type": "slide"
    }
   },
   "source": [
    "## OpenFAST Runs\n",
    "We could run an OpenFAST simulation, but that will take some time. You will have to trust me that it works. See example 6 if you don't. We look at some post-processing stuff though...\n",
    "\n",
    "### Post processing OpenFAST\n",
    "Currently, we have some basic plotting functionalities available. This is nice, as it gives us the chance to quickly and alogithmically look at some relevant control signals. \n",
    "\n",
    "#### Step wind case"
   ]
  },
  {
   "cell_type": "code",
   "execution_count": null,
   "metadata": {
    "slideshow": {
     "slide_type": "subslide"
    }
   },
   "outputs": [],
   "source": [
    "op = output_processing()\n",
    "\n",
    "# Define openfast output filenames, please fill in your own .outb\n",
    "# filenames = [\"../Test_Cases/5MW_Step/5MW_Step.outb\"]\n",
    "filenames = ['../Test_Cases/IEA-15-240-RWT-UMaineSemi/IEA-15-240-RWT-UMaineSemi.outb']\n",
    "# Load output info and data\n",
    "fast_out = op.load_fast_out(filenames)\n",
    "\n",
    "#  Define Plot cases \n",
    "cases = {}\n",
    "cases['Baseline'] = ['Wind1VelX', 'BldPitch1', 'GenTq', 'RotSpeed']\n",
    "cases['Rotor Performance'] = ['RtVAvgxh', 'RtTSR', 'RtFldCp']\n",
    "\n",
    "# Plot, woohoo!\n",
    "op.plot_fast_out(fast_out, cases)"
   ]
  },
  {
   "cell_type": "markdown",
   "metadata": {
    "slideshow": {
     "slide_type": "slide"
    }
   },
   "source": [
    "#### Turbulent wind case\n",
    "Lets look at the near turbulent cases with and without peak shaving (80%)"
   ]
  },
  {
   "cell_type": "code",
   "execution_count": null,
   "metadata": {
    "slideshow": {
     "slide_type": "subslide"
    }
   },
   "outputs": [],
   "source": [
    "# # Define openfast output filenames\n",
    "# filenames = [\"../Test_Cases/5MW_Turb_NR/5MW_Turb_NR.out\", # Note that we can load txt or binary outputs\n",
    "#              \"../Test_Cases/5MW_Turb_NR_ps/5MW_Turb_NR_ps.outb\"]\n",
    "\n",
    "# # Load output info and data\n",
    "# fast_out = op.load_fast_out(filenames)\n",
    "\n",
    "# #  Define Plot cases \n",
    "# cases = {}\n",
    "# cases['Baseline'] = ['Wind1VelX', 'BldPitch1', 'GenTq', 'RotSpeed']\n",
    "# cases['Peak Shaving'] = ['Wind1VelX', 'BldPitch1', 'TwrBsMyt']\n",
    "\n",
    "# # Plot, woohoo!\n",
    "# op.plot_fast_out(fast_out, cases)"
   ]
  },
  {
   "cell_type": "markdown",
   "metadata": {
    "slideshow": {
     "slide_type": "slide"
    }
   },
   "source": [
    "## In conclusion\n",
    "Hopefully this jupyter notebook showed some good working examples of what the overall functions of the ROSCO toolbox and associated ROSCO controller have to offer. Of course, I encourage you all to dig into the code a bit more. There are a number of examples offered in Examples folder (shockingly). These go over a number of the same functionalities that this notebook did, but in a little bit more detail and perhaps a more functional way. \n",
    "\n",
    "Of course, please offer your feedback on where you can see advancements in any of this work. You can reach me personally at nikhar.abbas@nrel.gov, or submit any issue/pull requests to the associated git repository itself. This project is meant to be ongoing and continue to evolve - and I would REALLY love the help in doing so!\n",
    "\n",
    "I would finally like to note that there has been a lot of work from a lot of very smart (and really great) people that has gone into all of this, some of which are acknowledged on the [ROSCO toolbox](www.github.com/nrel/ROSCO_toolbox) and [ROSCO](www.github.com/nrel/ROSCO_toolbox) github pages. "
   ]
  },
  {
   "cell_type": "code",
   "execution_count": null,
   "metadata": {},
   "outputs": [],
   "source": []
  },
  {
   "cell_type": "code",
   "execution_count": null,
   "metadata": {},
   "outputs": [],
   "source": []
  }
 ],
 "metadata": {
  "celltoolbar": "Slideshow",
  "kernelspec": {
   "display_name": "rosco-env",
   "language": "python",
   "name": "rosco-env"
  },
  "language_info": {
   "codemirror_mode": {
    "name": "ipython",
    "version": 3
   },
   "file_extension": ".py",
   "mimetype": "text/x-python",
   "name": "python",
   "nbconvert_exporter": "python",
   "pygments_lexer": "ipython3",
   "version": "3.9.16"
  }
 },
 "nbformat": 4,
 "nbformat_minor": 4
}
